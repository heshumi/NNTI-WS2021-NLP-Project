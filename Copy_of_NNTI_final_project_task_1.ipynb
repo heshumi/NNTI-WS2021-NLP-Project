{
  "nbformat": 4,
  "nbformat_minor": 0,
  "metadata": {
    "kernelspec": {
      "name": "python3",
      "display_name": "Python 3"
    },
    "colab": {
      "name": "Copy of NNTI_final_project_task_1.ipynb",
      "provenance": [],
      "collapsed_sections": [],
      "toc_visible": true,
      "include_colab_link": true
    },
    "accelerator": "GPU"
  },
  "cells": [
    {
      "cell_type": "markdown",
      "metadata": {
        "id": "view-in-github",
        "colab_type": "text"
      },
      "source": [
        "<a href=\"https://colab.research.google.com/github/heshumi/NNTI-WS2021-NLP-Project/blob/main/Copy_of_NNTI_final_project_task_1.ipynb\" target=\"_parent\"><img src=\"https://colab.research.google.com/assets/colab-badge.svg\" alt=\"Open In Colab\"/></a>"
      ]
    },
    {
      "cell_type": "markdown",
      "metadata": {
        "id": "_VZXi_KGi0UR"
      },
      "source": [
        "# Task 1: Word Embeddings (10 points)\r\n",
        "\r\n",
        "This notebook will guide you through all steps necessary to train a word2vec model (Detailed description in the PDF)."
      ]
    },
    {
      "cell_type": "markdown",
      "metadata": {
        "id": "48t-II1vkuau"
      },
      "source": [
        "## Imports\r\n",
        "\r\n",
        "This code block is reserved for your imports. \r\n",
        "\r\n",
        "You are free to use the following packages: \r\n",
        "\r\n",
        "(List of packages)"
      ]
    },
    {
      "cell_type": "code",
      "metadata": {
        "id": "4kh6nh84-AOL"
      },
      "source": [
        "# Imports\n",
        "import pandas as pd\n",
        "import numpy as np\n",
        "from math import sqrt\n",
        "import random\n",
        "import torch.nn as nn\n",
        "import torch\n",
        "import torch.nn.functional as F\n",
        "from torch.utils.data import Dataset, DataLoader"
      ],
      "execution_count": null,
      "outputs": []
    },
    {
      "cell_type": "markdown",
      "metadata": {
        "id": "NWmk3hVllEcU"
      },
      "source": [
        "# 1.1 Get the data (0.5 points)\r\n",
        "\r\n",
        "The Hindi portion HASOC corpus from [github.io](https://hasocfire.github.io/hasoc/2019/dataset.html) is already available in the repo, at data/hindi_hatespeech.tsv . Load it into a data structure of your choice. Then, split off a small part of the corpus as a development set (~100 data points).\r\n",
        "\r\n",
        "If you are using Colab the first two lines will let you upload folders or files from your local file system."
      ]
    },
    {
      "cell_type": "code",
      "metadata": {
        "id": "I0I2LAhJv0wq",
        "colab": {
          "base_uri": "https://localhost:8080/",
          "height": 196
        },
        "outputId": "1d053006-bed9-4538-b1ae-fc4c14e44080"
      },
      "source": [
        "#TODO: implement!\n",
        "\n",
        "data = pd.read_csv('hindi_dataset.tsv', sep='\\t')\n",
        "dev = data.iloc[:100,]\n",
        "dev.head()"
      ],
      "execution_count": null,
      "outputs": [
        {
          "output_type": "execute_result",
          "data": {
            "text/html": [
              "<div>\n",
              "<style scoped>\n",
              "    .dataframe tbody tr th:only-of-type {\n",
              "        vertical-align: middle;\n",
              "    }\n",
              "\n",
              "    .dataframe tbody tr th {\n",
              "        vertical-align: top;\n",
              "    }\n",
              "\n",
              "    .dataframe thead th {\n",
              "        text-align: right;\n",
              "    }\n",
              "</style>\n",
              "<table border=\"1\" class=\"dataframe\">\n",
              "  <thead>\n",
              "    <tr style=\"text-align: right;\">\n",
              "      <th></th>\n",
              "      <th>text_id</th>\n",
              "      <th>text</th>\n",
              "      <th>task_1</th>\n",
              "      <th>task_2</th>\n",
              "      <th>task_3</th>\n",
              "    </tr>\n",
              "  </thead>\n",
              "  <tbody>\n",
              "    <tr>\n",
              "      <th>0</th>\n",
              "      <td>hasoc_hi_5556</td>\n",
              "      <td>बांग्लादेश की शानदार वापसी, भारत को 314 रन पर ...</td>\n",
              "      <td>NOT</td>\n",
              "      <td>NONE</td>\n",
              "      <td>NONE</td>\n",
              "    </tr>\n",
              "    <tr>\n",
              "      <th>1</th>\n",
              "      <td>hasoc_hi_5648</td>\n",
              "      <td>सब रंडी नाच देखने मे व्यस्त जैसे ही कोई #शांती...</td>\n",
              "      <td>HOF</td>\n",
              "      <td>PRFN</td>\n",
              "      <td>UNT</td>\n",
              "    </tr>\n",
              "    <tr>\n",
              "      <th>2</th>\n",
              "      <td>hasoc_hi_164</td>\n",
              "      <td>तुम जैसे हरामियों के लिए बस जूतों की कमी है शु...</td>\n",
              "      <td>HOF</td>\n",
              "      <td>PRFN</td>\n",
              "      <td>TIN</td>\n",
              "    </tr>\n",
              "    <tr>\n",
              "      <th>3</th>\n",
              "      <td>hasoc_hi_3530</td>\n",
              "      <td>बीजेपी MLA आकाश विजयवर्गीय जेल से रिहा, जमानत ...</td>\n",
              "      <td>NOT</td>\n",
              "      <td>NONE</td>\n",
              "      <td>NONE</td>\n",
              "    </tr>\n",
              "    <tr>\n",
              "      <th>4</th>\n",
              "      <td>hasoc_hi_5206</td>\n",
              "      <td>चमकी बुखार: विधानसभा परिसर में आरजेडी का प्रदर...</td>\n",
              "      <td>NOT</td>\n",
              "      <td>NONE</td>\n",
              "      <td>NONE</td>\n",
              "    </tr>\n",
              "  </tbody>\n",
              "</table>\n",
              "</div>"
            ],
            "text/plain": [
              "         text_id  ... task_3\n",
              "0  hasoc_hi_5556  ...   NONE\n",
              "1  hasoc_hi_5648  ...    UNT\n",
              "2   hasoc_hi_164  ...    TIN\n",
              "3  hasoc_hi_3530  ...   NONE\n",
              "4  hasoc_hi_5206  ...   NONE\n",
              "\n",
              "[5 rows x 5 columns]"
            ]
          },
          "metadata": {
            "tags": []
          },
          "execution_count": 16
        }
      ]
    },
    {
      "cell_type": "markdown",
      "metadata": {
        "id": "D-mSJ8nUlupB"
      },
      "source": [
        "## 1.2 Data preparation (0.5 + 0.5 points)\r\n",
        "\r\n",
        "* Prepare the data by removing everything that does not contain information. \r\n",
        "User names (starting with '@') and punctuation symbols clearly do not convey information, but we also want to get rid of so-called [stopwords](https://en.wikipedia.org/wiki/Stop_word), i. e. words that have little to no semantic content (and, but, yes, the...). Hindi stopwords can be found [here](https://github.com/stopwords-iso/stopwords-hi/blob/master/stopwords-hi.txt) Then, standardize the spelling by lowercasing all words.\r\n",
        "Do this for the development section of the corpus for now.\r\n",
        "\r\n",
        "* What about hashtags (starting with '#') and emojis? Should they be removed too? Justify your answer in the report, and explain how you accounted for this in your implementation."
      ]
    },
    {
      "cell_type": "code",
      "metadata": {
        "id": "CHcNeyKi-AOQ"
      },
      "source": [
        "#TODO: implement!\n",
        "\n",
        "with open('stopwords-hi.txt', 'r') as f:\n",
        "  stopwords = f.read().split()\n",
        "\n",
        "punct = ':;?!-—-\\\"\\'|।()[]{},./\\\\“'\n",
        "\n",
        "def preprocess(x):\n",
        "  for ch in punct:\n",
        "    x = x.replace(ch, ' ')\n",
        "\n",
        "  words = x.split(' ')\n",
        "\n",
        "  preprocessed=[]\n",
        "\n",
        "  for word in words: \n",
        "    if 1 < len(word) < 30 and word[0]!='@' and word not in stopwords and not word.startswith('http'):\n",
        "      word.lower().strip()\n",
        "      preprocessed.append(word)\n",
        "\n",
        "  return preprocessed"
      ],
      "execution_count": null,
      "outputs": []
    },
    {
      "cell_type": "markdown",
      "metadata": {
        "id": "liX7dUCX4Fl_"
      },
      "source": [
        "We chose to leave the emojis and hashtags in the text because they might indicate the user's mood which we will be trying to predict. "
      ]
    },
    {
      "cell_type": "code",
      "metadata": {
        "id": "qsv0tcBa4VNH",
        "colab": {
          "base_uri": "https://localhost:8080/"
        },
        "outputId": "8e1df4a2-05d0-477a-fc9d-bc560161c252"
      },
      "source": [
        "dev['prep_text'] = dev['text'].apply(lambda x: preprocess(x))\n",
        "dev['prep_text'][:5]"
      ],
      "execution_count": null,
      "outputs": [
        {
          "output_type": "stream",
          "text": [
            "/usr/local/lib/python3.6/dist-packages/ipykernel_launcher.py:1: SettingWithCopyWarning: \n",
            "A value is trying to be set on a copy of a slice from a DataFrame.\n",
            "Try using .loc[row_indexer,col_indexer] = value instead\n",
            "\n",
            "See the caveats in the documentation: https://pandas.pydata.org/pandas-docs/stable/user_guide/indexing.html#returning-a-view-versus-a-copy\n",
            "  \"\"\"Entry point for launching an IPython kernel.\n"
          ],
          "name": "stderr"
        },
        {
          "output_type": "execute_result",
          "data": {
            "text/plain": [
              "0    [बांग्लादेश, शानदार, वापसी, भारत, 314, रन, रोक...\n",
              "1    [सब, रंडी, नाच, देखने, व्यस्त, #शांतीदूत, होगा...\n",
              "2    [तुम, हरामियों, बस, जूतों, कमी, शुक्र, तुम्हार...\n",
              "3    [बीजेपी, MLA, आकाश, विजयवर्गीय, जेल, रिहा, जमा...\n",
              "4    [चमकी, बुखार, विधानसभा, परिसर, आरजेडी, प्रदर्श...\n",
              "Name: prep_text, dtype: object"
            ]
          },
          "metadata": {
            "tags": []
          },
          "execution_count": 18
        }
      ]
    },
    {
      "cell_type": "markdown",
      "metadata": {
        "id": "Je09nozLmmMm"
      },
      "source": [
        "## 1.3 Build the vocabulary (0.5 + 0.5 points)\r\n",
        "\r\n",
        "The input to the first layer of word2vec is an one-hot encoding of the current word. The output of the model is then compared to a numeric class label of the words within the size of the skip-gram window. Now\r\n",
        "\r\n",
        "* Compile a list of all words in the development section of your corpus and save it in a variable ```V```."
      ]
    },
    {
      "cell_type": "code",
      "metadata": {
        "id": "VpoGmTKx-AOQ"
      },
      "source": [
        "#TODO: implement!\n",
        "V = {}\n",
        "\n",
        "for s in dev['prep_text']:\n",
        "  for w in s:\n",
        "    if w in V:\n",
        "      V[w]+=1\n",
        "    else: \n",
        "      V[w]=1\n",
        "      \n",
        "summ = sum(V.values())"
      ],
      "execution_count": null,
      "outputs": []
    },
    {
      "cell_type": "markdown",
      "metadata": {
        "id": "WiaVglVNoENY"
      },
      "source": [
        "* Then, write a function ```word_to_one_hot``` that returns a one-hot encoding of an arbitrary word in the vocabulary. The size of the one-hot encoding should be ```len(v)```."
      ]
    },
    {
      "cell_type": "code",
      "metadata": {
        "id": "yqPNw6IT-AOQ"
      },
      "source": [
        "#TODO: implement!\n",
        "\n",
        "# Create a dictionary \"{word:1-hot} for a faster access\"\n",
        "# onehot_dict={}\n",
        "\n",
        "# N = len(V)\n",
        "# for i, word in enumerate(V.keys()):\n",
        "#   onehot_dict[word] = np.append(np.append(np.zeros(i), [1]), np.zeros(N-i-1))\n",
        "\n",
        "# def word_to_one_hot(word):\n",
        "#   return onehot_dict[word]\n",
        "\n",
        "#   #TODO: implement!\n",
        "\n",
        "# # Create a dictionary \"{word:1-hot} for a faster access\"\n",
        "onehot_dict={}\n",
        "\n",
        "N = len(V)\n",
        "for i, word in enumerate(V.keys()):\n",
        "  onehot_dict[word] = i\n",
        "\n",
        "def word_to_one_hot(word):\n",
        "  i = onehot_dict[word]\n",
        "  return np.append(np.append(np.zeros(i), [1]), np.zeros(N-i-1))"
      ],
      "execution_count": null,
      "outputs": []
    },
    {
      "cell_type": "code",
      "metadata": {
        "id": "m7yEUOQVfK27"
      },
      "source": [
        "# onehot_dict['डालें']"
      ],
      "execution_count": null,
      "outputs": []
    },
    {
      "cell_type": "markdown",
      "metadata": {
        "id": "gKD8zBlxVclh"
      },
      "source": [
        "## 1.4 Subsampling (0.5 points)\r\n",
        "\r\n",
        "The probability to keep a word in a context is given by:\r\n",
        "\r\n",
        "$P_{keep}(w_i) = \\Big(\\sqrt{\\frac{z(w_i)}{0.001}}+1\\Big) \\cdot \\frac{0.001}{z(w_i)}$\r\n",
        "\r\n",
        "Where $z(w_i)$ is the relative frequency of the word $w_i$ in the corpus. Now,\r\n",
        "* Calculate word frequencies\r\n",
        "* Define a function ```sampling_prob``` that takes a word (string) as input and returns the probabiliy to **keep** the word in a context."
      ]
    },
    {
      "cell_type": "code",
      "metadata": {
        "id": "Mj4sDOVMMr0b"
      },
      "source": [
        "#TODO: implement!\r\n",
        "\r\n",
        "def sampling_prob(word):\r\n",
        "  z = V[word]/summ\r\n",
        "\r\n",
        "  return (sqrt(z/0.001)+1)*0.001/z"
      ],
      "execution_count": null,
      "outputs": []
    },
    {
      "cell_type": "markdown",
      "metadata": {
        "id": "kxV1P90zplxu"
      },
      "source": [
        "# 1.5 Skip-Grams (1 point)\r\n",
        "\r\n",
        "Now that you have the vocabulary and one-hot encodings at hand, you can start to do the actual work. The skip gram model requires training data of the shape ```(current_word, context)```, with ```context``` being the words before and/or after ```current_word``` within ```window_size```. \r\n",
        "\r\n",
        "* Have closer look on the original paper. If you feel to understand how skip-gram works, implement a function ```get_target_context``` that takes a sentence as input and [yield](https://docs.python.org/3.9/reference/simple_stmts.html#the-yield-statement)s a ```(current_word, context)```.\r\n",
        "\r\n",
        "* Use your ```sampling_prob``` function to drop words from contexts as you sample them. "
      ]
    },
    {
      "cell_type": "code",
      "metadata": {
        "id": "r8CCTpVy-AOR"
      },
      "source": [
        "#TODO: implement!\n",
        "\n",
        "def get_target_context(sentence, window_size=5):\n",
        "  new_sent = [w for w in sentence if random.random() < sampling_prob(w)] # Remove too frequent words \n",
        "  # new_sent = sentence # DEBUGGUNG\n",
        "\n",
        "  for i, w in enumerate(new_sent): # For each word in a sentence (or comment)\n",
        "    context = [y for y in new_sent[i-window_size:i] + new_sent[i+1:i+window_size+1]]\n",
        "    yield (w, context) # return its context"
      ],
      "execution_count": null,
      "outputs": []
    },
    {
      "cell_type": "markdown",
      "metadata": {
        "id": "gfEFgtkmuDjL"
      },
      "source": [
        "# 1.6 Hyperparameters (0.5 points)\r\n",
        "\r\n",
        "According to the word2vec paper, what would be a good choice for the following hyperparameters? \r\n",
        "\r\n",
        "* Embedding dimension\r\n",
        "* Window size\r\n",
        "\r\n",
        "Initialize them in a dictionary or as independent variables in the code block below. "
      ]
    },
    {
      "cell_type": "code",
      "metadata": {
        "id": "d7xSKuFJcYoD"
      },
      "source": [
        "# Set hyperparameters\n",
        "window_size = 5\n",
        "embedding_size = 300\n",
        "input_size = len(V) # Onehot vector length\n",
        "batch_size = 50\n",
        "\n",
        "# More hyperparameters\n",
        "learning_rate = 0.05\n",
        "epochs = 100"
      ],
      "execution_count": null,
      "outputs": []
    },
    {
      "cell_type": "markdown",
      "metadata": {
        "id": "bheJUy-jQOi8"
      },
      "source": [
        "# Create a dataset and a data loader"
      ]
    },
    {
      "cell_type": "code",
      "metadata": {
        "id": "vFYvDTrEKZUo"
      },
      "source": [
        "class HindiDataset(Dataset):\n",
        "  def __init__(self, df):\n",
        "    self.df = df\n",
        "\n",
        "  def __len__(self):\n",
        "    return len(self.df)\n",
        "\n",
        "  def __getitem__(self, idx): # Returns pairs of 'word - context' in onehot\n",
        "    cont_list=[]\n",
        "    word_list=[]\n",
        "    for word, context in get_target_context(self.df[idx], window_size= window_size):\n",
        "        word_onehot = word_to_one_hot(word).tolist()\n",
        "\n",
        "        for cont_word in context:\n",
        "          cont_onehot = word_to_one_hot(cont_word).tolist()\n",
        "\n",
        "          word_list.append(word_onehot)\n",
        "          cont_list.append(cont_onehot)\n",
        "    \n",
        "    word_list = torch.tensor(word_list, dtype=torch.double)\n",
        "    cont_list = torch.tensor(cont_list, dtype = torch.double)\n",
        "\n",
        "    st = torch.stack([word_list, cont_list])\n",
        "    st.type(torch.DoubleTensor)\n",
        "    return st # 2 columns: word_vector tensor, context_vector tensor\n"
      ],
      "execution_count": null,
      "outputs": []
    },
    {
      "cell_type": "code",
      "metadata": {
        "id": "tVK9v-llnp2m"
      },
      "source": [
        "def my_collate(batch):\n",
        "  data = []\n",
        "  labels = []\n",
        "  for b in batch:\n",
        "    data.append(b[0])\n",
        "    labels.append(b[1])\n",
        "\n",
        "  d = torch.cat(data, dim=0)\n",
        "  l = torch.cat(labels, dim=0)\n",
        "  \n",
        "  return (d, l)\n"
      ],
      "execution_count": null,
      "outputs": []
    },
    {
      "cell_type": "code",
      "metadata": {
        "id": "A7jZgGGUXuta"
      },
      "source": [
        "dataset = HindiDataset(dev['prep_text'])\n",
        "dataloader = DataLoader(dataset, collate_fn = my_collate, batch_size=batch_size, shuffle = False)"
      ],
      "execution_count": null,
      "outputs": []
    },
    {
      "cell_type": "markdown",
      "metadata": {
        "id": "xiM2zq-YunPx"
      },
      "source": [
        "# 1.7 Pytorch Module (0.5 + 0.5 + 0.5 points)\r\n",
        "\r\n",
        "Pytorch provides a wrapper for your fancy and super-complex models: [torch.nn.Module](https://pytorch.org/docs/stable/generated/torch.nn.Module.html). The code block below contains a skeleton for such a wrapper. Now,\r\n",
        "\r\n",
        "* Initialize the two weight matrices of word2vec as fields of the class.\r\n",
        "\r\n",
        "* Override the ```forward``` method of this class. It should take a one-hot encoding as input, perform the matrix multiplications, and finally apply a log softmax on the output layer.\r\n",
        "\r\n",
        "* Initialize the model and save its weights in a variable. The Pytorch documentation will tell you how to do that."
      ]
    },
    {
      "cell_type": "code",
      "metadata": {
        "id": "D9sGNytYhwxS"
      },
      "source": [
        "# Create model \n",
        "\n",
        "class Word2Vec(nn.Module):\n",
        "  def __init__(self):\n",
        "    super().__init__()\n",
        "\n",
        "    # Hidden layer\n",
        "    self.fc1 = nn.Linear(input_size, embedding_size)\n",
        "\n",
        "    # Output layer\n",
        "    self.fc2 = nn.Linear(embedding_size, input_size)\n",
        "\n",
        "  def forward(self, one_hot):\n",
        "    x = self.fc1(one_hot)\n",
        "    x = F.relu(x)\n",
        "    x = self.fc2(x)\n",
        "    # x = F.softmax(x, dim=0) # Softmax is not needed in cosine similarity (in theory)\n",
        "\n",
        "    return x"
      ],
      "execution_count": null,
      "outputs": []
    },
    {
      "cell_type": "code",
      "metadata": {
        "colab": {
          "base_uri": "https://localhost:8080/"
        },
        "id": "BfU62gX8k7lT",
        "outputId": "d61d68b2-8d62-40e0-e3fd-29eb46c3b41d"
      },
      "source": [
        "torch.manual_seed(21) # For reproducibility\n",
        "\n",
        "model = Word2Vec()\n",
        "model.double()\n",
        "model.cuda()\n",
        "\n",
        "# nn.init.xavier_uniform(model.fc1.weight)\n",
        "# nn.init.xavier_uniform(model.fc2.weight)\n",
        "\n",
        "nn.init.uniform(model.fc1.weight)\n",
        "nn.init.uniform(model.fc2.weight)\n",
        "\n",
        "w1 = model.fc1.weight\n",
        "w2 = model.fc2.weight"
      ],
      "execution_count": null,
      "outputs": [
        {
          "output_type": "stream",
          "text": [
            "/usr/local/lib/python3.6/dist-packages/ipykernel_launcher.py:10: UserWarning: nn.init.uniform is now deprecated in favor of nn.init.uniform_.\n",
            "  # Remove the CWD from sys.path while we load stuff.\n",
            "/usr/local/lib/python3.6/dist-packages/ipykernel_launcher.py:11: UserWarning: nn.init.uniform is now deprecated in favor of nn.init.uniform_.\n",
            "  # This is added back by InteractiveShellApp.init_path()\n"
          ],
          "name": "stderr"
        }
      ]
    },
    {
      "cell_type": "markdown",
      "metadata": {
        "id": "XefIDMMHv5zJ"
      },
      "source": [
        "# 1.8 Loss function and optimizer (0.5 points)\r\n",
        "\r\n",
        "Initialize variables with [optimizer](https://pytorch.org/docs/stable/optim.html#module-torch.optim) and loss function. You can take what is used in the word2vec paper, but you can use alternative optimizers/loss functions if you explain your choice in the report."
      ]
    },
    {
      "cell_type": "code",
      "metadata": {
        "id": "V9-Ino-e29w3"
      },
      "source": [
        "# Define optimizer and loss\n",
        "optimizer = torch.optim.Adam(model.parameters(), lr = learning_rate)\n",
        "\n",
        "criterion = nn.CosineEmbeddingLoss()"
      ],
      "execution_count": null,
      "outputs": []
    },
    {
      "cell_type": "markdown",
      "metadata": {
        "id": "ckTfK78Ew8wI"
      },
      "source": [
        "# 1.9 Training the model (3 points)\r\n",
        "\r\n",
        "As everything is prepared, implement a training loop that performs several passes of the data set through the model. You are free to do this as you please, but your code should:\r\n",
        "\r\n",
        "* Load the weights saved in 1.6 at the start of every execution of the code block\r\n",
        "* Print the accumulated loss at least after every epoch (the accumulate loss should be reset after every epoch)\r\n",
        "* Define a criterion for the training procedure to terminate if a certain loss value is reached. You can find the threshold by observing the loss for the development set.\r\n",
        "\r\n",
        "You can play around with the number of epochs and the learning rate."
      ]
    },
    {
      "cell_type": "code",
      "metadata": {
        "id": "LbMGD5L0mLDx"
      },
      "source": [
        "# Define train procedure\n",
        "\n",
        "# load initial weights\n",
        "\n",
        "def train():\n",
        "  \n",
        "  print(\"Training started\")\n",
        "  \n",
        "  for epoch in range(epochs):\n",
        "    acc_loss=0\n",
        "    words_num=0\n",
        "    for i, batch in enumerate(dataloader):\n",
        "      word_t = batch[0].type(torch.DoubleTensor).cuda()\n",
        "      cont_t = batch[1].cuda()\n",
        "      \n",
        "      # print(word_t.size()[0])\n",
        "      if word_t.size()[0] == 0:\n",
        "        continue\n",
        "\n",
        "      outputs = model(word_t)\n",
        "\n",
        "      loss = criterion(cont_t, outputs, torch.ones(len(cont_t)).cuda()) # Correctly computes 1 - cos(a,b)\n",
        "      \n",
        "      acc_loss += loss\n",
        "      words_num+=1\n",
        "\n",
        "      optimizer.zero_grad()\n",
        "      loss.backward()\n",
        "      optimizer.step()\n",
        "    \n",
        "    print('Epoch: {}; Accumulated mean loss: {}'.format(epoch+1, acc_loss/words_num))"
      ],
      "execution_count": null,
      "outputs": []
    },
    {
      "cell_type": "code",
      "metadata": {
        "id": "oiuuvQKQV-Lz",
        "colab": {
          "base_uri": "https://localhost:8080/"
        },
        "outputId": "12e66ae8-a51b-4126-dcb5-4fc60343ef2b"
      },
      "source": [
        "model.fc1.weight = w1\n",
        "model.fc2.weight = w2\n",
        "\n",
        "train()\n",
        "\n",
        "print(\"Training finished\")"
      ],
      "execution_count": null,
      "outputs": [
        {
          "output_type": "stream",
          "text": [
            "Training started\n",
            "Epoch: 1; Accumulated mean loss: 0.9728839692814661\n",
            "Epoch: 2; Accumulated mean loss: 0.9702726657176066\n",
            "Epoch: 3; Accumulated mean loss: 0.9683225028928424\n",
            "Epoch: 4; Accumulated mean loss: 0.9662277799014912\n",
            "Epoch: 5; Accumulated mean loss: 0.9640535799693504\n",
            "Epoch: 6; Accumulated mean loss: 0.9615411465157433\n",
            "Epoch: 7; Accumulated mean loss: 0.9583731003130319\n",
            "Epoch: 8; Accumulated mean loss: 0.9542580942925581\n",
            "Epoch: 9; Accumulated mean loss: 0.9487543510691454\n",
            "Epoch: 10; Accumulated mean loss: 0.9420671061406569\n",
            "Epoch: 11; Accumulated mean loss: 0.9331414699893261\n",
            "Epoch: 12; Accumulated mean loss: 0.9215793672984522\n",
            "Epoch: 13; Accumulated mean loss: 0.9075788939191634\n",
            "Epoch: 14; Accumulated mean loss: 0.892330308684173\n",
            "Epoch: 15; Accumulated mean loss: 0.8775740147698283\n",
            "Epoch: 16; Accumulated mean loss: 0.8609746895146704\n",
            "Epoch: 17; Accumulated mean loss: 0.8431566225505844\n",
            "Epoch: 18; Accumulated mean loss: 0.8266657067833834\n",
            "Epoch: 19; Accumulated mean loss: 0.8134444522305757\n",
            "Epoch: 20; Accumulated mean loss: 0.8029615786609506\n",
            "Epoch: 21; Accumulated mean loss: 0.7953951084676227\n",
            "Epoch: 22; Accumulated mean loss: 0.7890645500806375\n",
            "Epoch: 23; Accumulated mean loss: 0.7844541646932225\n",
            "Epoch: 24; Accumulated mean loss: 0.7798646680241654\n",
            "Epoch: 25; Accumulated mean loss: 0.775297607678762\n",
            "Epoch: 26; Accumulated mean loss: 0.769333819911866\n",
            "Epoch: 27; Accumulated mean loss: 0.7671571683830052\n",
            "Epoch: 28; Accumulated mean loss: 0.7629149122671659\n",
            "Epoch: 29; Accumulated mean loss: 0.758203325719975\n",
            "Epoch: 30; Accumulated mean loss: 0.756760174503492\n",
            "Epoch: 31; Accumulated mean loss: 0.7539881727928506\n",
            "Epoch: 32; Accumulated mean loss: 0.7517085714959127\n",
            "Epoch: 33; Accumulated mean loss: 0.7496275124550917\n",
            "Epoch: 34; Accumulated mean loss: 0.7476268477232839\n",
            "Epoch: 35; Accumulated mean loss: 0.746315921723036\n",
            "Epoch: 36; Accumulated mean loss: 0.7441836392439014\n",
            "Epoch: 37; Accumulated mean loss: 0.7445848071398695\n",
            "Epoch: 38; Accumulated mean loss: 0.742381390938184\n",
            "Epoch: 39; Accumulated mean loss: 0.7413031451328398\n",
            "Epoch: 40; Accumulated mean loss: 0.7398144514233485\n",
            "Epoch: 41; Accumulated mean loss: 0.7397580116351989\n",
            "Epoch: 42; Accumulated mean loss: 0.7386299507165388\n",
            "Epoch: 43; Accumulated mean loss: 0.7380549705452026\n",
            "Epoch: 44; Accumulated mean loss: 0.7360152357100029\n",
            "Epoch: 45; Accumulated mean loss: 0.7361908777899666\n",
            "Epoch: 46; Accumulated mean loss: 0.7365532335670006\n",
            "Epoch: 47; Accumulated mean loss: 0.7371536747919454\n",
            "Epoch: 48; Accumulated mean loss: 0.7353436742254607\n",
            "Epoch: 49; Accumulated mean loss: 0.7349638211216953\n",
            "Epoch: 50; Accumulated mean loss: 0.734683226526635\n",
            "Epoch: 51; Accumulated mean loss: 0.7337313049931178\n",
            "Epoch: 52; Accumulated mean loss: 0.7326775851801464\n",
            "Epoch: 53; Accumulated mean loss: 0.7336784228631594\n",
            "Epoch: 54; Accumulated mean loss: 0.7328007273655199\n",
            "Epoch: 55; Accumulated mean loss: 0.7316101983078671\n",
            "Epoch: 56; Accumulated mean loss: 0.7326050111037841\n",
            "Epoch: 57; Accumulated mean loss: 0.7316450172779395\n",
            "Epoch: 58; Accumulated mean loss: 0.7315710881212587\n",
            "Epoch: 59; Accumulated mean loss: 0.7314361976396075\n",
            "Epoch: 60; Accumulated mean loss: 0.730927033675707\n",
            "Epoch: 61; Accumulated mean loss: 0.7308760330835056\n",
            "Epoch: 62; Accumulated mean loss: 0.7295780360185548\n",
            "Epoch: 63; Accumulated mean loss: 0.7298283379049799\n",
            "Epoch: 64; Accumulated mean loss: 0.7301422538096611\n",
            "Epoch: 65; Accumulated mean loss: 0.729874420485529\n",
            "Epoch: 66; Accumulated mean loss: 0.7287767243766097\n",
            "Epoch: 67; Accumulated mean loss: 0.7287377829208336\n",
            "Epoch: 68; Accumulated mean loss: 0.7291531265761935\n",
            "Epoch: 69; Accumulated mean loss: 0.7293117664611595\n",
            "Epoch: 70; Accumulated mean loss: 0.7297149153631359\n",
            "Epoch: 71; Accumulated mean loss: 0.7294262559991317\n",
            "Epoch: 72; Accumulated mean loss: 0.7290485173003978\n",
            "Epoch: 73; Accumulated mean loss: 0.7293534345359494\n",
            "Epoch: 74; Accumulated mean loss: 0.7279289396060991\n",
            "Epoch: 75; Accumulated mean loss: 0.7274687579007406\n",
            "Epoch: 76; Accumulated mean loss: 0.7286897285575764\n",
            "Epoch: 77; Accumulated mean loss: 0.7272948717692844\n",
            "Epoch: 78; Accumulated mean loss: 0.7288201465067388\n",
            "Epoch: 79; Accumulated mean loss: 0.7277257003610037\n",
            "Epoch: 80; Accumulated mean loss: 0.7279513501739592\n",
            "Epoch: 81; Accumulated mean loss: 0.7269020492923364\n",
            "Epoch: 82; Accumulated mean loss: 0.7275741306498149\n",
            "Epoch: 83; Accumulated mean loss: 0.7276739350693391\n",
            "Epoch: 84; Accumulated mean loss: 0.7280473969869428\n",
            "Epoch: 85; Accumulated mean loss: 0.7271336134394369\n",
            "Epoch: 86; Accumulated mean loss: 0.7291596481261697\n",
            "Epoch: 87; Accumulated mean loss: 0.7274028759174886\n",
            "Epoch: 88; Accumulated mean loss: 0.7277845140086607\n",
            "Epoch: 89; Accumulated mean loss: 0.726509720872508\n",
            "Epoch: 90; Accumulated mean loss: 0.727577218498253\n",
            "Epoch: 91; Accumulated mean loss: 0.7276536246402372\n",
            "Epoch: 92; Accumulated mean loss: 0.7269222782365452\n",
            "Epoch: 93; Accumulated mean loss: 0.7270341272451645\n",
            "Epoch: 94; Accumulated mean loss: 0.7271453899229465\n",
            "Epoch: 95; Accumulated mean loss: 0.726980918587803\n",
            "Epoch: 96; Accumulated mean loss: 0.726846945474708\n",
            "Epoch: 97; Accumulated mean loss: 0.7265375760955582\n",
            "Epoch: 98; Accumulated mean loss: 0.7258141711238473\n",
            "Epoch: 99; Accumulated mean loss: 0.7264820382677819\n",
            "Epoch: 100; Accumulated mean loss: 0.7262753011598109\n",
            "Training finished\n"
          ],
          "name": "stdout"
        }
      ]
    },
    {
      "cell_type": "code",
      "metadata": {
        "id": "KrffMJg6rZvl"
      },
      "source": [
        "# Save the weights for 100 posts\n",
        "\n",
        "w1_100 = model.fc1.weight\n",
        "w2_100 = model.fc2.weight"
      ],
      "execution_count": null,
      "outputs": []
    },
    {
      "cell_type": "markdown",
      "metadata": {
        "id": "XFcML10Crbvk"
      },
      "source": [
        "**Experiment Results**\n",
        "\n",
        "1) Window Size: 5; lr: 0.05; embedding_size = 30; subsampling=True\n",
        "\n",
        "Epoch: 1; Error: 0.915\n",
        "\n",
        "Epoch: 17; Error: 0.858 \n",
        "\n",
        "Epoch 50: Error 0.8499\n",
        "\n",
        "Epoch 70: Error 0.8473\n",
        "\n",
        "Epoch 90: Error 0.8486\n",
        "\n",
        "Epoch 100: Error 0.8478\n",
        "\n",
        "2) Window: 3, lr: 0.05; embedding_size = 300; subsampling = False\n",
        "\n",
        "Epoch 1: 0.906\n",
        "\n",
        "Epoch 7: 0.8496\n",
        "\n",
        "Epoch 25: 0.8129\n",
        "\n",
        "Epoch 50: 0.8194\n",
        "\n",
        "3) Window: 5, lr: 0.05, embedding = 300, subs = True, batch_size = 500"
      ]
    },
    {
      "cell_type": "markdown",
      "metadata": {
        "id": "BgQkaYstyj0Q"
      },
      "source": [
        "# 1.10 Train on the full dataset (0.5 points)\r\n",
        "\r\n",
        "Now, go back to 1.1 and remove the restriction on the number of sentences in your corpus. Then, reexecute code blocks 1.2, 1.3 and 1.6 (or those relevant if you created additional ones). \r\n",
        "\r\n",
        "* Then, retrain your model on the complete dataset.\r\n",
        "\r\n",
        "* Now, the input weights of the model contain the desired word embeddings! Save them together with the corresponding vocabulary items (Pytorch provides a nice [functionality](https://pytorch.org/tutorials/beginner/saving_loading_models.html) for this)."
      ]
    },
    {
      "cell_type": "code",
      "metadata": {
        "colab": {
          "base_uri": "https://localhost:8080/",
          "height": 833
        },
        "id": "OW3ASA-AsnWE",
        "outputId": "fdb66b3e-14e6-4be7-8f41-d53fd8194d66"
      },
      "source": [
        "model.fc1.weight = w1\n",
        "model.fc2.weight = w2\n",
        "\n",
        "train()\n",
        "\n",
        "print(\"Training finished\")"
      ],
      "execution_count": null,
      "outputs": [
        {
          "output_type": "stream",
          "text": [
            "Training started\n"
          ],
          "name": "stdout"
        },
        {
          "output_type": "error",
          "ename": "RuntimeError",
          "evalue": "ignored",
          "traceback": [
            "\u001b[0;31m---------------------------------------------------------------------------\u001b[0m",
            "\u001b[0;31mRuntimeError\u001b[0m                              Traceback (most recent call last)",
            "\u001b[0;32m<ipython-input-20-10e2d2619775>\u001b[0m in \u001b[0;36m<module>\u001b[0;34m()\u001b[0m\n\u001b[1;32m      2\u001b[0m \u001b[0mmodel\u001b[0m\u001b[0;34m.\u001b[0m\u001b[0mfc2\u001b[0m\u001b[0;34m.\u001b[0m\u001b[0mweight\u001b[0m \u001b[0;34m=\u001b[0m \u001b[0mw2\u001b[0m\u001b[0;34m\u001b[0m\u001b[0;34m\u001b[0m\u001b[0m\n\u001b[1;32m      3\u001b[0m \u001b[0;34m\u001b[0m\u001b[0m\n\u001b[0;32m----> 4\u001b[0;31m \u001b[0mtrain\u001b[0m\u001b[0;34m(\u001b[0m\u001b[0;34m)\u001b[0m\u001b[0;34m\u001b[0m\u001b[0;34m\u001b[0m\u001b[0m\n\u001b[0m\u001b[1;32m      5\u001b[0m \u001b[0;34m\u001b[0m\u001b[0m\n\u001b[1;32m      6\u001b[0m \u001b[0mprint\u001b[0m\u001b[0;34m(\u001b[0m\u001b[0;34m\"Training finished\"\u001b[0m\u001b[0;34m)\u001b[0m\u001b[0;34m\u001b[0m\u001b[0;34m\u001b[0m\u001b[0m\n",
            "\u001b[0;32m<ipython-input-19-f968ef8aa172>\u001b[0m in \u001b[0;36mtrain\u001b[0;34m()\u001b[0m\n\u001b[1;32m     10\u001b[0m     \u001b[0macc_loss\u001b[0m\u001b[0;34m=\u001b[0m\u001b[0;36m0\u001b[0m\u001b[0;34m\u001b[0m\u001b[0;34m\u001b[0m\u001b[0m\n\u001b[1;32m     11\u001b[0m     \u001b[0mwords_num\u001b[0m\u001b[0;34m=\u001b[0m\u001b[0;36m0\u001b[0m\u001b[0;34m\u001b[0m\u001b[0;34m\u001b[0m\u001b[0m\n\u001b[0;32m---> 12\u001b[0;31m     \u001b[0;32mfor\u001b[0m \u001b[0mi\u001b[0m\u001b[0;34m,\u001b[0m \u001b[0mbatch\u001b[0m \u001b[0;32min\u001b[0m \u001b[0menumerate\u001b[0m\u001b[0;34m(\u001b[0m\u001b[0mdataloader\u001b[0m\u001b[0;34m)\u001b[0m\u001b[0;34m:\u001b[0m\u001b[0;34m\u001b[0m\u001b[0;34m\u001b[0m\u001b[0m\n\u001b[0m\u001b[1;32m     13\u001b[0m       \u001b[0mword_t\u001b[0m \u001b[0;34m=\u001b[0m \u001b[0mbatch\u001b[0m\u001b[0;34m[\u001b[0m\u001b[0;36m0\u001b[0m\u001b[0;34m]\u001b[0m\u001b[0;34m.\u001b[0m\u001b[0mtype\u001b[0m\u001b[0;34m(\u001b[0m\u001b[0mtorch\u001b[0m\u001b[0;34m.\u001b[0m\u001b[0mDoubleTensor\u001b[0m\u001b[0;34m)\u001b[0m\u001b[0;34m.\u001b[0m\u001b[0mcuda\u001b[0m\u001b[0;34m(\u001b[0m\u001b[0;34m)\u001b[0m\u001b[0;34m\u001b[0m\u001b[0;34m\u001b[0m\u001b[0m\n\u001b[1;32m     14\u001b[0m       \u001b[0mcont_t\u001b[0m \u001b[0;34m=\u001b[0m \u001b[0mbatch\u001b[0m\u001b[0;34m[\u001b[0m\u001b[0;36m1\u001b[0m\u001b[0;34m]\u001b[0m\u001b[0;34m.\u001b[0m\u001b[0mcuda\u001b[0m\u001b[0;34m(\u001b[0m\u001b[0;34m)\u001b[0m\u001b[0;34m\u001b[0m\u001b[0;34m\u001b[0m\u001b[0m\n",
            "\u001b[0;32m/usr/local/lib/python3.6/dist-packages/torch/utils/data/dataloader.py\u001b[0m in \u001b[0;36m__next__\u001b[0;34m(self)\u001b[0m\n\u001b[1;32m    433\u001b[0m         \u001b[0;32mif\u001b[0m \u001b[0mself\u001b[0m\u001b[0;34m.\u001b[0m\u001b[0m_sampler_iter\u001b[0m \u001b[0;32mis\u001b[0m \u001b[0;32mNone\u001b[0m\u001b[0;34m:\u001b[0m\u001b[0;34m\u001b[0m\u001b[0;34m\u001b[0m\u001b[0m\n\u001b[1;32m    434\u001b[0m             \u001b[0mself\u001b[0m\u001b[0;34m.\u001b[0m\u001b[0m_reset\u001b[0m\u001b[0;34m(\u001b[0m\u001b[0;34m)\u001b[0m\u001b[0;34m\u001b[0m\u001b[0;34m\u001b[0m\u001b[0m\n\u001b[0;32m--> 435\u001b[0;31m         \u001b[0mdata\u001b[0m \u001b[0;34m=\u001b[0m \u001b[0mself\u001b[0m\u001b[0;34m.\u001b[0m\u001b[0m_next_data\u001b[0m\u001b[0;34m(\u001b[0m\u001b[0;34m)\u001b[0m\u001b[0;34m\u001b[0m\u001b[0;34m\u001b[0m\u001b[0m\n\u001b[0m\u001b[1;32m    436\u001b[0m         \u001b[0mself\u001b[0m\u001b[0;34m.\u001b[0m\u001b[0m_num_yielded\u001b[0m \u001b[0;34m+=\u001b[0m \u001b[0;36m1\u001b[0m\u001b[0;34m\u001b[0m\u001b[0;34m\u001b[0m\u001b[0m\n\u001b[1;32m    437\u001b[0m         \u001b[0;32mif\u001b[0m \u001b[0mself\u001b[0m\u001b[0;34m.\u001b[0m\u001b[0m_dataset_kind\u001b[0m \u001b[0;34m==\u001b[0m \u001b[0m_DatasetKind\u001b[0m\u001b[0;34m.\u001b[0m\u001b[0mIterable\u001b[0m \u001b[0;32mand\u001b[0m\u001b[0;31m \u001b[0m\u001b[0;31m\\\u001b[0m\u001b[0;34m\u001b[0m\u001b[0;34m\u001b[0m\u001b[0m\n",
            "\u001b[0;32m/usr/local/lib/python3.6/dist-packages/torch/utils/data/dataloader.py\u001b[0m in \u001b[0;36m_next_data\u001b[0;34m(self)\u001b[0m\n\u001b[1;32m    473\u001b[0m     \u001b[0;32mdef\u001b[0m \u001b[0m_next_data\u001b[0m\u001b[0;34m(\u001b[0m\u001b[0mself\u001b[0m\u001b[0;34m)\u001b[0m\u001b[0;34m:\u001b[0m\u001b[0;34m\u001b[0m\u001b[0;34m\u001b[0m\u001b[0m\n\u001b[1;32m    474\u001b[0m         \u001b[0mindex\u001b[0m \u001b[0;34m=\u001b[0m \u001b[0mself\u001b[0m\u001b[0;34m.\u001b[0m\u001b[0m_next_index\u001b[0m\u001b[0;34m(\u001b[0m\u001b[0;34m)\u001b[0m  \u001b[0;31m# may raise StopIteration\u001b[0m\u001b[0;34m\u001b[0m\u001b[0;34m\u001b[0m\u001b[0m\n\u001b[0;32m--> 475\u001b[0;31m         \u001b[0mdata\u001b[0m \u001b[0;34m=\u001b[0m \u001b[0mself\u001b[0m\u001b[0;34m.\u001b[0m\u001b[0m_dataset_fetcher\u001b[0m\u001b[0;34m.\u001b[0m\u001b[0mfetch\u001b[0m\u001b[0;34m(\u001b[0m\u001b[0mindex\u001b[0m\u001b[0;34m)\u001b[0m  \u001b[0;31m# may raise StopIteration\u001b[0m\u001b[0;34m\u001b[0m\u001b[0;34m\u001b[0m\u001b[0m\n\u001b[0m\u001b[1;32m    476\u001b[0m         \u001b[0;32mif\u001b[0m \u001b[0mself\u001b[0m\u001b[0;34m.\u001b[0m\u001b[0m_pin_memory\u001b[0m\u001b[0;34m:\u001b[0m\u001b[0;34m\u001b[0m\u001b[0;34m\u001b[0m\u001b[0m\n\u001b[1;32m    477\u001b[0m             \u001b[0mdata\u001b[0m \u001b[0;34m=\u001b[0m \u001b[0m_utils\u001b[0m\u001b[0;34m.\u001b[0m\u001b[0mpin_memory\u001b[0m\u001b[0;34m.\u001b[0m\u001b[0mpin_memory\u001b[0m\u001b[0;34m(\u001b[0m\u001b[0mdata\u001b[0m\u001b[0;34m)\u001b[0m\u001b[0;34m\u001b[0m\u001b[0;34m\u001b[0m\u001b[0m\n",
            "\u001b[0;32m/usr/local/lib/python3.6/dist-packages/torch/utils/data/_utils/fetch.py\u001b[0m in \u001b[0;36mfetch\u001b[0;34m(self, possibly_batched_index)\u001b[0m\n\u001b[1;32m     45\u001b[0m         \u001b[0;32melse\u001b[0m\u001b[0;34m:\u001b[0m\u001b[0;34m\u001b[0m\u001b[0;34m\u001b[0m\u001b[0m\n\u001b[1;32m     46\u001b[0m             \u001b[0mdata\u001b[0m \u001b[0;34m=\u001b[0m \u001b[0mself\u001b[0m\u001b[0;34m.\u001b[0m\u001b[0mdataset\u001b[0m\u001b[0;34m[\u001b[0m\u001b[0mpossibly_batched_index\u001b[0m\u001b[0;34m]\u001b[0m\u001b[0;34m\u001b[0m\u001b[0;34m\u001b[0m\u001b[0m\n\u001b[0;32m---> 47\u001b[0;31m         \u001b[0;32mreturn\u001b[0m \u001b[0mself\u001b[0m\u001b[0;34m.\u001b[0m\u001b[0mcollate_fn\u001b[0m\u001b[0;34m(\u001b[0m\u001b[0mdata\u001b[0m\u001b[0;34m)\u001b[0m\u001b[0;34m\u001b[0m\u001b[0;34m\u001b[0m\u001b[0m\n\u001b[0m",
            "\u001b[0;32m<ipython-input-12-e11e48d772e4>\u001b[0m in \u001b[0;36mmy_collate\u001b[0;34m(batch)\u001b[0m\n\u001b[1;32m      6\u001b[0m     \u001b[0mlabels\u001b[0m\u001b[0;34m.\u001b[0m\u001b[0mappend\u001b[0m\u001b[0;34m(\u001b[0m\u001b[0mb\u001b[0m\u001b[0;34m[\u001b[0m\u001b[0;36m1\u001b[0m\u001b[0;34m]\u001b[0m\u001b[0;34m)\u001b[0m\u001b[0;34m\u001b[0m\u001b[0;34m\u001b[0m\u001b[0m\n\u001b[1;32m      7\u001b[0m \u001b[0;34m\u001b[0m\u001b[0m\n\u001b[0;32m----> 8\u001b[0;31m   \u001b[0md\u001b[0m \u001b[0;34m=\u001b[0m \u001b[0mtorch\u001b[0m\u001b[0;34m.\u001b[0m\u001b[0mcat\u001b[0m\u001b[0;34m(\u001b[0m\u001b[0mdata\u001b[0m\u001b[0;34m,\u001b[0m \u001b[0mdim\u001b[0m\u001b[0;34m=\u001b[0m\u001b[0;36m0\u001b[0m\u001b[0;34m)\u001b[0m\u001b[0;34m\u001b[0m\u001b[0;34m\u001b[0m\u001b[0m\n\u001b[0m\u001b[1;32m      9\u001b[0m   \u001b[0ml\u001b[0m \u001b[0;34m=\u001b[0m \u001b[0mtorch\u001b[0m\u001b[0;34m.\u001b[0m\u001b[0mcat\u001b[0m\u001b[0;34m(\u001b[0m\u001b[0mlabels\u001b[0m\u001b[0;34m,\u001b[0m \u001b[0mdim\u001b[0m\u001b[0;34m=\u001b[0m\u001b[0;36m0\u001b[0m\u001b[0;34m)\u001b[0m\u001b[0;34m\u001b[0m\u001b[0;34m\u001b[0m\u001b[0m\n\u001b[1;32m     10\u001b[0m \u001b[0;34m\u001b[0m\u001b[0m\n",
            "\u001b[0;31mRuntimeError\u001b[0m: CUDA out of memory. Tried to allocate 2.09 GiB (GPU 0; 14.76 GiB total capacity; 12.66 GiB already allocated; 1.11 GiB free; 12.72 GiB reserved in total by PyTorch)"
          ]
        }
      ]
    },
    {
      "cell_type": "markdown",
      "metadata": {
        "id": "l5uxv7VDbH1p"
      },
      "source": [
        "Data size with 100 first points, Batch_size = 100: 13478\n",
        "\n",
        "Data size with all points, Batch_size = 100: 13617\n",
        "\n",
        "As it is expected to be!"
      ]
    },
    {
      "cell_type": "code",
      "metadata": {
        "id": "tXzW2vko-vpz"
      },
      "source": [
        "torch.save(model.state_dict(), 'Word2Vec.model')"
      ],
      "execution_count": null,
      "outputs": []
    },
    {
      "cell_type": "markdown",
      "metadata": {
        "id": "GiebM9BRHhqw"
      },
      "source": [
        "# All data experiments\n",
        "\n",
        "1) window_size = 5; embedding_size = 300; lr = 0.05;\n",
        "\n",
        "\n",
        "Epoch: 1; Accumulated mean loss: 0.9383050315444118\n",
        "\n",
        "Epoch: 2; Accumulated mean loss: 0.9324209570430585\n",
        "\n",
        "Epoch: 3; Accumulated mean loss: 0.922902618981997\n",
        "\n",
        "Epoch: 4; Accumulated mean loss: 0.9193773524045055\n",
        "\n",
        "Epoch: 5; Accumulated mean loss: 0.9180544629896482\n",
        "\n",
        "Epoch: 6; Accumulated mean loss: 0.9179885761327385\n",
        "\n",
        "Epoch: 7; Accumulated mean loss: 0.918402046288665\n",
        "\n",
        "Epoch: 8; Accumulated mean loss: 0.9187660405256706\n",
        "\n",
        "Epoch: 9; Accumulated mean loss: 0.9189742238755008"
      ]
    },
    {
      "cell_type": "markdown",
      "metadata": {
        "id": "wg6vnQQGsfnJ"
      },
      "source": [
        "# Debugging notes"
      ]
    },
    {
      "cell_type": "code",
      "metadata": {
        "colab": {
          "base_uri": "https://localhost:8080/"
        },
        "id": "3l3kzskoD-Jv",
        "outputId": "d4de3a93-edb9-420e-856f-d25c7c68dc94"
      },
      "source": [
        "model = Word2Vec().cuda()\n",
        "model.double()\n",
        "\n",
        "model.load_state_dict(torch.load('Word2Vec.model'))\n",
        "model.eval()"
      ],
      "execution_count": null,
      "outputs": [
        {
          "output_type": "execute_result",
          "data": {
            "text/plain": [
              "Word2Vec(\n",
              "  (fc1): Linear(in_features=20531, out_features=300, bias=True)\n",
              "  (fc2): Linear(in_features=300, out_features=20531, bias=True)\n",
              ")"
            ]
          },
          "metadata": {
            "tags": []
          },
          "execution_count": 23
        }
      ]
    },
    {
      "cell_type": "code",
      "metadata": {
        "colab": {
          "base_uri": "https://localhost:8080/"
        },
        "id": "QbfZnMsJoV_O",
        "outputId": "7e5c1000-127e-4496-fe56-20a107702f85"
      },
      "source": [
        "# Outputs 10 most similar words to the input word. \n",
        "  # Works well for window_size = 1, subsampling= false, using only 2 first sentences\n",
        "             # for w_s = 3, subsampling = false, 2 1st sentences\n",
        "             # for w_s = 3, subsampling = true, 100 1st sentences\n",
        "\n",
        "word = torch.from_numpy(word_to_one_hot('#AkashVijayvargiya')).cuda()\n",
        "word = word.view(1, len(word))\n",
        "\n",
        "context = model(word)\n",
        "\n",
        "max = torch.topk(context, 10) # most suitable context (sorted)\n",
        "\n",
        "for idx in max[1][0]:\n",
        "  for w, onehot in onehot_dict.items():\n",
        "      if np.argmax(onehot) == idx:\n",
        "          print(w)"
      ],
      "execution_count": null,
      "outputs": [
        {
          "output_type": "stream",
          "text": [
            "abpnews\n",
            "abplive\n",
            "समर्थक\n",
            "इंदौर\n",
            "खुशी\n",
            "फायरिंग\n",
            "हर्ष\n",
            "in\n",
            "india\n",
            "#AkashVijayvargiya\n"
          ],
          "name": "stdout"
        }
      ]
    },
    {
      "cell_type": "code",
      "metadata": {
        "colab": {
          "base_uri": "https://localhost:8080/"
        },
        "id": "CcTM-8X15Mre",
        "outputId": "c3838ff1-d21c-4597-e7ae-eb2509ff6472"
      },
      "source": [
        "dev['prep_text'][350]"
      ],
      "execution_count": null,
      "outputs": [
        {
          "output_type": "execute_result",
          "data": {
            "text/plain": [
              "['तन',\n",
              " 'शोभा',\n",
              " 'मन',\n",
              " 'श्रृंगार',\n",
              " 'नही',\n",
              " 'मन',\n",
              " 'शोभा',\n",
              " 'कोमलता',\n",
              " 'बनावट',\n",
              " 'नही',\n",
              " 'टीका',\n",
              " 'बिंदी',\n",
              " '#चूड़ी',\n",
              " 'पायल',\n",
              " 'हों',\n",
              " 'बात',\n",
              " 'नही',\n",
              " 'सुन्दरता',\n",
              " 'नयनो',\n",
              " 'लाज',\n",
              " 'चुनर',\n",
              " 'भली',\n",
              " 'प्रेम',\n",
              " 'नदिया',\n",
              " 'ऐसी',\n",
              " 'जिसका',\n",
              " 'जल',\n",
              " 'सूखे',\n",
              " 'नही',\n",
              " 'धारा',\n",
              " 'इतनी',\n",
              " 'निर्मलता',\n",
              " 'प्रीतम',\n",
              " 'कभी',\n",
              " 'रूठे',\n",
              " 'नही',\n",
              " '#हिंदी_शब्द',\n",
              " '#शब्द_निधि',\n",
              " '#संगीता']"
            ]
          },
          "metadata": {
            "tags": []
          },
          "execution_count": 28
        }
      ]
    },
    {
      "cell_type": "markdown",
      "metadata": {
        "id": "7irZfDfrOFkv"
      },
      "source": [
        "# Possible shortcomings:\n",
        "\n",
        "1) Biased gradient estimation. Define a train loader and pass the batches, not just single observations"
      ]
    }
  ]
}